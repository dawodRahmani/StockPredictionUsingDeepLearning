{
 "cells": [
  {
   "cell_type": "markdown",
   "metadata": {},
   "source": [
    "# LSTM vs STC Comparison\n",
    "\n",
    "This notebook loads Microsoft stock data, trains an LSTM model to predict whether the next day's closing price will increase, and compares it with a simple Schaff Trend Cycle (STC) baseline."
   ]
  },
  {
   "cell_type": "code",
   "execution_count": null,
   "metadata": {},
   "outputs": [],
   "source": [
    "import pandas as pd\n",
    "import numpy as np\n",
    "from sklearn.preprocessing import MinMaxScaler\n",
    "from sklearn.metrics import accuracy_score\n",
    "from tensorflow.keras.models import Sequential\n",
    "from tensorflow.keras.layers import LSTM, Dense"
   ]
  },
  {
   "cell_type": "markdown",
   "metadata": {},
   "source": ["## Load Data"]
  },
  {
   "cell_type": "code",
   "execution_count": null,
   "metadata": {},
   "outputs": [],
   "source": [
    "df = pd.read_csv('MSFT_1986_2025-06-30.csv')\n",
    "df['Date'] = pd.to_datetime(df['Date'])\n",
    "df = df.sort_values('Date').reset_index(drop=True)\n",
    "df.head()"
   ]
  },
  {
   "cell_type": "markdown",
   "metadata": {},
   "source": ["## Calculate STC"]
  },
  {
   "cell_type": "code",
   "execution_count": null,
   "metadata": {},
   "outputs": [],
   "source": [
    "def schaff_trend_cycle(close, fast_period=23, slow_period=50, cycle_period=10):\n",
    "    ema_fast = close.ewm(span=fast_period, adjust=False).mean()\n",
    "    ema_slow = close.ewm(span=slow_period, adjust=False).mean()\n",
    "    macd = ema_fast - ema_slow\n",
    "    lowest_macd = macd.rolling(window=cycle_period).min()\n",
    "    highest_macd = macd.rolling(window=cycle_period).max()\n",
    "    stoch_macd = 100 * (macd - lowest_macd) / (highest_macd - lowest_macd)\n",
    "    stoch_macd_smoothed1 = stoch_macd.ewm(span=3, adjust=False).mean()\n",
    "    stoch_macd_smoothed2 = stoch_macd_smoothed1.ewm(span=3, adjust=False).mean()\n",
    "    return stoch_macd_smoothed2\n",
    "\n",
    "df['STC'] = schaff_trend_cycle(df['Close'])\n",
    "df = df.dropna().reset_index(drop=True)"
   ]
  },
  {
   "cell_type": "markdown",
   "metadata": {},
   "source": ["## Prepare Data for LSTM"]
  },
  {
   "cell_type": "code",
   "execution_count": null,
   "metadata": {},
   "outputs": [],
   "source": [
    "df['Target'] = (df['Close'].shift(-1) > df['Close']).astype(int)\n",
    "scaler = MinMaxScaler()\n",
    "scaled_close = scaler.fit_transform(df[['Close']])\n",
    "seq_len = 20\n",
    "X, y = [], []\n",
    "for i in range(len(scaled_close)-seq_len-1):\n",
    "    X.append(scaled_close[i:i+seq_len])\n",
    "    y.append(df['Target'].iloc[i+seq_len])\n",
    "X, y = np.array(X), np.array(y)\n",
    "split = int(0.8 * len(X))\n",
    "X_train, X_test = X[:split], X[split:]\n",
    "y_train, y_test = y[:split], y[split:]"
   ]
  },
  {
   "cell_type": "markdown",
   "metadata": {},
   "source": ["## Train LSTM"]
  },
  {
   "cell_type": "code",
   "execution_count": null,
   "metadata": {},
   "outputs": [],
   "source": [
    "model = Sequential([\n",
    "    LSTM(50, input_shape=(X_train.shape[1], X_train.shape[2])),\n",
    "    Dense(1, activation='sigmoid')\n",
    "])\n",
    "model.compile(optimizer='adam', loss='binary_crossentropy', metrics=['accuracy'])\n",
    "model.fit(X_train, y_train, epochs=3, batch_size=32, verbose=0)\n",
    "lstm_pred = (model.predict(X_test) > 0.5).astype(int).flatten()\n",
    "lstm_acc = accuracy_score(y_test, lstm_pred)\n",
    "print('LSTM accuracy:', lstm_acc)"
   ]
  },
  {
   "cell_type": "markdown",
   "metadata": {},
   "source": ["## STC Baseline"]
  },
  {
   "cell_type": "code",
   "execution_count": null,
   "metadata": {},
   "outputs": [],
   "source": [
    "stc_signal = (df['STC'] > 50).astype(int)\n",
    "stc_pred = stc_signal.shift(1).dropna().iloc[seq_len:]\n",
    "stc_true = df['Target'].iloc[seq_len+1:]\n",
    "stc_acc = accuracy_score(stc_true, stc_pred)\n",
    "print('STC baseline accuracy:', stc_acc)"
   ]
  },
  {
   "cell_type": "markdown",
   "metadata": {},
   "source": ["## Comparison"]
  },
  {
   "cell_type": "code",
   "execution_count": null,
   "metadata": {},
   "outputs": [],
   "source": [
    "print('LSTM Accuracy:', lstm_acc)\n",
    "print('STC Baseline Accuracy:', stc_acc)"
   ]
  }
 ],
 "metadata": {
  "kernelspec": {
   "display_name": "Python 3",
   "language": "python",
   "name": "python3"
  },
  "language_info": {
   "name": "python",
   "pygments_lexer": "ipython3"
  }
 },
 "nbformat": 4,
 "nbformat_minor": 4
}
